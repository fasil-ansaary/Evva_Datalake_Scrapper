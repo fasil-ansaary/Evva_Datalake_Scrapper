{
 "cells": [
  {
   "cell_type": "code",
   "execution_count": 1,
   "metadata": {},
   "outputs": [],
   "source": [
    "import pandas as pd\n",
    "from azure.core.credentials import AzureKeyCredential\n",
    "from azure.maps.search import MapsSearchClient\n",
    "import pandas as pd\n",
    "import math "
   ]
  },
  {
   "cell_type": "code",
   "execution_count": 13,
   "metadata": {},
   "outputs": [],
   "source": [
    "pd.options.mode.chained_assignment = None\n",
    "df = pd.read_csv('/Users/fasil/Desktop/scrapper script/Evva_Datalake_Scrapper/azure/Senior_Apartments.csv')\n",
    "data = df.values.tolist()\n",
    "for row in data:\n",
    "    # Check if 'miles' or 'mile' is not in the third position (index 2)\n",
    "    if 'review' not in row[3] and 'reviews' not in row[3]:\n",
    "        row.insert(3, ' ')\n",
    "    if 'Ends in' in row[6]:\n",
    "        del row[6]\n",
    "    if type(row[5]) == float and math.isnan(row[5]):\n",
    "        del row[5]\n",
    "\n",
    "cleaned_df = pd.DataFrame(data, columns=df.columns.insert(12, ' '))\n",
    "cleaned_df\n",
    "cleaned_df.to_csv(\"/Users/fasil/Desktop/scrapper script/Evva_Datalake_Scrapper/azure/Senior_ApartmentsCleaned.csv\", index=False)"
   ]
  },
  {
   "cell_type": "code",
   "execution_count": null,
   "metadata": {},
   "outputs": [],
   "source": []
  }
 ],
 "metadata": {
  "kernelspec": {
   "display_name": "Python 3",
   "language": "python",
   "name": "python3"
  },
  "language_info": {
   "codemirror_mode": {
    "name": "ipython",
    "version": 3
   },
   "file_extension": ".py",
   "mimetype": "text/x-python",
   "name": "python",
   "nbconvert_exporter": "python",
   "pygments_lexer": "ipython3",
   "version": "3.11.5"
  }
 },
 "nbformat": 4,
 "nbformat_minor": 2
}
